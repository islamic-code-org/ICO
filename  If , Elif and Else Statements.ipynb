{
 "cells": [
  {
   "cell_type": "code",
   "execution_count": 2,
   "metadata": {},
   "outputs": [
    {
     "name": "stdout",
     "output_type": "stream",
     "text": [
      "Its True\n"
     ]
    }
   ],
   "source": [
    "if 3>2:\n",
    "    print('Its True')"
   ]
  },
  {
   "cell_type": "code",
   "execution_count": 3,
   "metadata": {},
   "outputs": [
    {
     "name": "stdout",
     "output_type": "stream",
     "text": [
      "Feed Me!\n"
     ]
    }
   ],
   "source": [
    "hungry = True\n",
    "if hungry:\n",
    "    print('Feed Me!')"
   ]
  },
  {
   "cell_type": "code",
   "execution_count": 4,
   "metadata": {},
   "outputs": [],
   "source": [
    "hungry = False\n",
    "if hungry:\n",
    "    print('Feed Me!')"
   ]
  },
  {
   "cell_type": "code",
   "execution_count": 5,
   "metadata": {},
   "outputs": [
    {
     "name": "stdout",
     "output_type": "stream",
     "text": [
      "Am Not Hungry\n"
     ]
    }
   ],
   "source": [
    "hungry = False\n",
    "if hungry:\n",
    "    print('Feed Me!')\n",
    "else:\n",
    "    print('Am Not Hungry')"
   ]
  },
  {
   "cell_type": "code",
   "execution_count": 6,
   "metadata": {},
   "outputs": [
    {
     "name": "stdout",
     "output_type": "stream",
     "text": [
      "Feed Me!\n"
     ]
    }
   ],
   "source": [
    "hungry = True\n",
    "if hungry:\n",
    "    print('Feed Me!')\n",
    "else:\n",
    "    print('Am Not Hungry')"
   ]
  },
  {
   "cell_type": "code",
   "execution_count": 7,
   "metadata": {},
   "outputs": [
    {
     "name": "stdout",
     "output_type": "stream",
     "text": [
      "I Dont Know Much\n"
     ]
    }
   ],
   "source": [
    "loc = 'Bank'\n",
    "\n",
    "if loc == 'Auto Shop':\n",
    "    print('Cars Are Cool')\n",
    "else:\n",
    "    print('I Dont Know Much')"
   ]
  },
  {
   "cell_type": "code",
   "execution_count": 9,
   "metadata": {},
   "outputs": [
    {
     "name": "stdout",
     "output_type": "stream",
     "text": [
      "Money Is Cool!\n"
     ]
    }
   ],
   "source": [
    "loc = 'Bank'\n",
    "\n",
    "if loc == 'Auto Shop':\n",
    "    print('Cars Are Cool!')\n",
    "elif loc == 'Bank':\n",
    "    print('Money Is Cool!')\n",
    "elif loc == 'Store':\n",
    "    print('Welcome To The Store!')\n",
    "else:\n",
    "    print('I Dont Know Much')"
   ]
  },
  {
   "cell_type": "code",
   "execution_count": 10,
   "metadata": {},
   "outputs": [
    {
     "name": "stdout",
     "output_type": "stream",
     "text": [
      "Cars Are Cool!\n"
     ]
    }
   ],
   "source": [
    "loc = 'Auto Shop'\n",
    "\n",
    "if loc == 'Auto Shop':\n",
    "    print('Cars Are Cool!')\n",
    "elif loc == 'Bank':\n",
    "    print('Money Is Cool!')\n",
    "elif loc == 'Store':\n",
    "    print('Welcome To The Store!')\n",
    "else:\n",
    "    print('I Dont Know Much')"
   ]
  },
  {
   "cell_type": "code",
   "execution_count": 11,
   "metadata": {},
   "outputs": [
    {
     "name": "stdout",
     "output_type": "stream",
     "text": [
      "Welcome To The Store!\n"
     ]
    }
   ],
   "source": [
    "loc = 'Store'\n",
    "\n",
    "if loc == 'Auto Shop':\n",
    "    print('Cars Are Cool!')\n",
    "elif loc == 'Bank':\n",
    "    print('Money Is Cool!')\n",
    "elif loc == 'Store':\n",
    "    print('Welcome To The Store!')\n",
    "else:\n",
    "    print('I Dont Know Much')"
   ]
  },
  {
   "cell_type": "code",
   "execution_count": 12,
   "metadata": {},
   "outputs": [
    {
     "name": "stdout",
     "output_type": "stream",
     "text": [
      "I Dont Know Much\n"
     ]
    }
   ],
   "source": [
    "loc = 'Game'\n",
    "\n",
    "if loc == 'Auto Shop':\n",
    "    print('Cars Are Cool!')\n",
    "elif loc == 'Bank':\n",
    "    print('Money Is Cool!')\n",
    "elif loc == 'Store':\n",
    "    print('Welcome To The Store!')\n",
    "else:\n",
    "    print('I Dont Know Much')"
   ]
  },
  {
   "cell_type": "code",
   "execution_count": 14,
   "metadata": {},
   "outputs": [
    {
     "name": "stdout",
     "output_type": "stream",
     "text": [
      "Hello Sammy!\n"
     ]
    }
   ],
   "source": [
    "name = 'Sammy'\n",
    "\n",
    "if name == 'Frankie':\n",
    "    print('Hello Frankie!')\n",
    "elif name == 'Sammy':\n",
    "    print('Hello Sammy!')\n",
    "else:\n",
    "    print('Nice To Meat You!!')\n",
    "    "
   ]
  },
  {
   "cell_type": "code",
   "execution_count": 15,
   "metadata": {},
   "outputs": [
    {
     "name": "stdout",
     "output_type": "stream",
     "text": [
      "Hello Frankie!\n"
     ]
    }
   ],
   "source": [
    "name = 'Frankie'\n",
    "\n",
    "if name == 'Frankie':\n",
    "    print('Hello Frankie!')\n",
    "elif name == 'Sammy':\n",
    "    print('Hello Sammy!')\n",
    "else:\n",
    "    print('Nice To Meat You!!')"
   ]
  },
  {
   "cell_type": "code",
   "execution_count": 16,
   "metadata": {},
   "outputs": [
    {
     "name": "stdout",
     "output_type": "stream",
     "text": [
      "Nice To Meat You!!\n"
     ]
    }
   ],
   "source": [
    "name = 'Jose'\n",
    "\n",
    "if name == 'Frankie':\n",
    "    print('Hello Frankie!')\n",
    "elif name == 'Sammy':\n",
    "    print('Hello Sammy!')\n",
    "else:\n",
    "    print('Nice To Meat You!!')"
   ]
  }
 ],
 "metadata": {
  "kernelspec": {
   "display_name": "Python 3",
   "language": "python",
   "name": "python3"
  },
  "language_info": {
   "codemirror_mode": {
    "name": "ipython",
    "version": 3
   },
   "file_extension": ".py",
   "mimetype": "text/x-python",
   "name": "python",
   "nbconvert_exporter": "python",
   "pygments_lexer": "ipython3",
   "version": "3.7.6"
  }
 },
 "nbformat": 4,
 "nbformat_minor": 4
}
